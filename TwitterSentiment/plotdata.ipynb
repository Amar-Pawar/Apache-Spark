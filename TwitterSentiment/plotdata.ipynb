{
 "cells": [
  {
   "cell_type": "markdown",
   "source": [
    "*** @Author: Amar Pawar ***\n",
    "\n",
    "*** @Date: 2021-08-18 ***\n",
    "\n",
    "*** @Last Modified by: Amar Pawar ***\n",
    "\n",
    "*** @Last Modified time: 2021-08-18 ***\n",
    "\n",
    "*** @Title : Pyspark dataframes and visualization with line chart ***"
   ],
   "metadata": {}
  },
  {
   "cell_type": "code",
   "execution_count": 1,
   "source": [
    "from itertools import count\n",
    "import pandas as pd\n",
    "import matplotlib.pyplot as plt\n",
    "from matplotlib.animation import FuncAnimation\n",
    "%matplotlib\n",
    "\n",
    "plt.style.use('fivethirtyeight')\n",
    "\n",
    "def animate(i):\n",
    "    data = pd.read_csv('data.csv')\n",
    "    y1 = data['pos_count']\n",
    "    y2 = data['neg_count']\n",
    "    \n",
    "    plt.cla()\n",
    "    plt.plot(y1, label='positive' )\n",
    "    plt.plot(y2,label='negative')\n",
    "\n",
    "    plt.legend(loc='upper left')\n",
    "    plt.tight_layout()\n",
    "\n",
    "ani = FuncAnimation(plt.gcf(), animate, interval=1000)\n",
    "\n",
    "plt.tight_layout()\n",
    "plt.show()"
   ],
   "outputs": [
    {
     "output_type": "stream",
     "name": "stdout",
     "text": [
      "Using matplotlib backend: TkAgg\n"
     ]
    }
   ],
   "metadata": {}
  },
  {
   "cell_type": "code",
   "execution_count": null,
   "source": [],
   "outputs": [],
   "metadata": {}
  }
 ],
 "metadata": {
  "orig_nbformat": 4,
  "language_info": {
   "name": "python",
   "version": "3.8.10",
   "mimetype": "text/x-python",
   "codemirror_mode": {
    "name": "ipython",
    "version": 3
   },
   "pygments_lexer": "ipython3",
   "nbconvert_exporter": "python",
   "file_extension": ".py"
  },
  "kernelspec": {
   "name": "python3",
   "display_name": "Python 3.8.10 64-bit"
  },
  "interpreter": {
   "hash": "916dbcbb3f70747c44a77c7bcd40155683ae19c65e1c03b4aa3499c5328201f1"
  }
 },
 "nbformat": 4,
 "nbformat_minor": 2
}