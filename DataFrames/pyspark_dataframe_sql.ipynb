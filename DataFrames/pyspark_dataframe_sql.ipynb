{
 "cells": [
  {
   "cell_type": "markdown",
   "source": [
    "# *PYSPARK DATAFRAMES FROM CSVs*"
   ],
   "metadata": {}
  },
  {
   "cell_type": "code",
   "execution_count": 3,
   "source": [
    "from pyspark.sql import *\n",
    "spark = SparkSession.builder.getOrCreate()\n",
    "from pyspark.sql.functions import *"
   ],
   "outputs": [],
   "metadata": {}
  },
  {
   "cell_type": "markdown",
   "source": [
    "## Loadind csv file and creating dataframe"
   ],
   "metadata": {}
  },
  {
   "cell_type": "code",
   "execution_count": 4,
   "source": [
    "Df= spark.read.format(\"csv\").option(\"header\",\"true\").load(\"hdfs://localhost:9000/Spark/CpuLogData/*.csv\")"
   ],
   "outputs": [],
   "metadata": {}
  },
  {
   "cell_type": "code",
   "execution_count": 5,
   "source": [
    "Df.printSchema()"
   ],
   "outputs": [
    {
     "output_type": "stream",
     "name": "stdout",
     "text": [
      "root\n",
      " |-- DateTime: string (nullable = true)\n",
      " |-- Cpu Count: string (nullable = true)\n",
      " |-- Cpu Working Time: string (nullable = true)\n",
      " |-- Cpu idle Time: string (nullable = true)\n",
      " |-- cpu_percent: string (nullable = true)\n",
      " |-- Usage Cpu Count : string (nullable = true)\n",
      " |-- number of software interrupts since boot: string (nullable = true)\n",
      " |-- number of system calls since boot: string (nullable = true)\n",
      " |-- number of interrupts since boot: string (nullable = true)\n",
      " |-- cpu avg load over 1 min: string (nullable = true)\n",
      " |-- cpu avg load over 5 min: string (nullable = true)\n",
      " |-- cpu avg load over 15 min: string (nullable = true)\n",
      " |-- system_total_memory: string (nullable = true)\n",
      " |-- system_used_memory: string (nullable = true)\n",
      " |-- system_free_memory: string (nullable = true)\n",
      " |-- system_active_memory: string (nullable = true)\n",
      " |-- system_inactive_memory: string (nullable = true)\n",
      " |-- system_buffers_memory: string (nullable = true)\n",
      " |-- system_cached_memory: string (nullable = true)\n",
      " |-- system_shared_memory: string (nullable = true)\n",
      " |-- system_avalible_memory: string (nullable = true)\n",
      " |-- disk_total_memory: string (nullable = true)\n",
      " |-- disk_used_memory: string (nullable = true)\n",
      " |-- disk_free_memory: string (nullable = true)\n",
      " |-- disk_read_count: string (nullable = true)\n",
      " |-- disk_write_count: string (nullable = true)\n",
      " |-- disk_read_bytes: string (nullable = true)\n",
      " |-- disk_write_bytes: string (nullable = true)\n",
      " |-- time spent reading from disk: string (nullable = true)\n",
      " |-- time spent writing to disk: string (nullable = true)\n",
      " |-- time spent doing actual I/Os: string (nullable = true)\n",
      " |-- number of bytes sent: string (nullable = true)\n",
      " |-- number of bytes received: string (nullable = true)\n",
      " |-- number of packets sent: string (nullable = true)\n",
      " |-- number of packets recived: string (nullable = true)\n",
      " |-- total number of errors while receiving: string (nullable = true)\n",
      " |-- total number of errors while sending: string (nullable = true)\n",
      " |-- total number of incoming packets which were dropped: string (nullable = true)\n",
      " |-- total number of outgoing packets which were dropped: string (nullable = true)\n",
      " |-- boot_time: string (nullable = true)\n",
      " |-- user_name: string (nullable = true)\n",
      " |-- keyboard: string (nullable = true)\n",
      " |-- mouse: string (nullable = true)\n",
      " |-- technology: string (nullable = true)\n",
      " |-- files_changed: string (nullable = true)\n",
      "\n"
     ]
    }
   ],
   "metadata": {}
  },
  {
   "cell_type": "markdown",
   "source": [
    "## counting total entries in dataframe"
   ],
   "metadata": {}
  },
  {
   "cell_type": "code",
   "execution_count": 6,
   "source": [
    "Df.count()"
   ],
   "outputs": [
    {
     "output_type": "stream",
     "name": "stderr",
     "text": []
    },
    {
     "output_type": "execute_result",
     "data": {
      "text/plain": [
       "4122"
      ]
     },
     "metadata": {},
     "execution_count": 6
    }
   ],
   "metadata": {}
  },
  {
   "cell_type": "code",
   "execution_count": 7,
   "source": [
    "Df.select(\"user_name\",\"DateTime\",\"boot_time\",\"keyboard\",\"mouse\").show()"
   ],
   "outputs": [
    {
     "output_type": "stream",
     "name": "stdout",
     "text": [
      "+--------------------+-------------------+--------------+--------+------+\n",
      "|           user_name|           DateTime|     boot_time|keyboard| mouse|\n",
      "+--------------------+-------------------+--------------+--------+------+\n",
      "|  iamnzm@outlook.com|2019-09-19 08:40:02|0:09:59.262105|     1.0|  32.0|\n",
      "|  iamnzm@outlook.com|2019-09-19 08:45:02|0:14:59.259253|     0.0|   0.0|\n",
      "|  iamnzm@outlook.com|2019-09-19 08:50:01|0:19:58.817858|     0.0|   0.0|\n",
      "|  iamnzm@outlook.com|2019-09-19 08:55:01|0:24:58.366251|    11.0| 900.0|\n",
      "|  iamnzm@outlook.com|2019-09-19 09:00:01|0:29:59.008276|     2.0|  25.0|\n",
      "|  iamnzm@outlook.com|2019-09-19 09:05:01|0:34:58.858791|    37.0| 336.0|\n",
      "|deepshukla292@gma...|2019-09-19 09:05:01|0:05:19.424878|     0.0|  55.0|\n",
      "|  iamnzm@outlook.com|2019-09-19 09:10:01|0:39:58.482956|     0.0| 136.0|\n",
      "|deepshukla292@gma...|2019-09-19 09:10:01|0:10:19.516467|     6.0|1112.0|\n",
      "|  iamnzm@outlook.com|2019-09-19 09:15:02|0:44:59.088574|     0.0|  84.0|\n",
      "|deepshukla292@gma...|2019-09-19 09:15:02|0:15:20.211072|     0.0| 357.0|\n",
      "|markfernandes66@g...|2019-09-19 09:15:01|0:15:37.306887|    20.0| 670.0|\n",
      "|markfernandes66@g...|2019-09-19 09:10:01|0:10:37.345523|    17.0|   0.0|\n",
      "|markfernandes66@g...|2019-09-19 09:20:01|0:20:37.261825|    29.0|1895.0|\n",
      "|  iamnzm@outlook.com|2019-09-19 09:20:02|0:49:59.132879|     0.0|  29.0|\n",
      "|deepshukla292@gma...|2019-09-19 09:20:02|0:20:20.165577|    35.0|3022.0|\n",
      "|markfernandes66@g...|2019-09-19 09:25:01|0:25:37.662065|     2.0| 238.0|\n",
      "|  iamnzm@outlook.com|2019-09-19 09:25:01|0:54:58.698849|     0.0|   0.0|\n",
      "|deepshukla292@gma...|2019-09-19 09:25:01|0:25:19.999863|    20.0|1330.0|\n",
      "|markfernandes66@g...|2019-09-19 09:30:01|0:30:37.246632|     5.0|  39.0|\n",
      "+--------------------+-------------------+--------------+--------+------+\n",
      "only showing top 20 rows\n",
      "\n"
     ]
    }
   ],
   "metadata": {}
  },
  {
   "cell_type": "markdown",
   "source": [
    "## Creating temp view to perform sql quieries"
   ],
   "metadata": {}
  },
  {
   "cell_type": "code",
   "execution_count": 8,
   "source": [
    "Df.createOrReplaceTempView(\"log_data\")"
   ],
   "outputs": [
    {
     "output_type": "stream",
     "name": "stderr",
     "text": [
      "21/08/19 09:07:02 WARN package: Truncated the string representation of a plan since it was too large. This behavior can be adjusted by setting 'spark.sql.debug.maxToStringFields'.\n"
     ]
    }
   ],
   "metadata": {}
  },
  {
   "cell_type": "markdown",
   "source": [
    "## Query to fetch total entries for each person"
   ],
   "metadata": {}
  },
  {
   "cell_type": "code",
   "execution_count": 9,
   "source": [
    "avg_hr_df= spark.sql(\"select user_name ,count('') as total from log_data where keyboard !=0.0 or mouse!=0.0 group by user_name\")"
   ],
   "outputs": [],
   "metadata": {}
  },
  {
   "cell_type": "code",
   "execution_count": 10,
   "source": [
    "avg_hr_df.show()"
   ],
   "outputs": [
    {
     "output_type": "stream",
     "name": "stderr",
     "text": []
    },
    {
     "output_type": "stream",
     "name": "stdout",
     "text": [
      "+--------------------+-----+\n",
      "|           user_name|total|\n",
      "+--------------------+-----+\n",
      "|salinabodale73@gm...|  440|\n",
      "|sharlawar77@gmail...|  457|\n",
      "|rahilstar11@gmail...|  399|\n",
      "|deepshukla292@gma...|  475|\n",
      "|  iamnzm@outlook.com|  459|\n",
      "|markfernandes66@g...|  389|\n",
      "|damodharn21@gmail...|  191|\n",
      "|bhagyashrichalke2...|  361|\n",
      "+--------------------+-----+\n",
      "\n"
     ]
    },
    {
     "output_type": "stream",
     "name": "stderr",
     "text": []
    }
   ],
   "metadata": {}
  },
  {
   "cell_type": "markdown",
   "source": [
    "## Creating tenp view"
   ],
   "metadata": {}
  },
  {
   "cell_type": "code",
   "execution_count": 11,
   "source": [
    "avg_hr_df.createOrReplaceTempView(\"avg_hr\")"
   ],
   "outputs": [],
   "metadata": {}
  },
  {
   "cell_type": "markdown",
   "source": [
    "## Query to get avg seconds of work for each person"
   ],
   "metadata": {}
  },
  {
   "cell_type": "code",
   "execution_count": 12,
   "source": [
    "hrs_df=spark.sql(\"select user_name, ((((total-1)*5)*60)/6) as avg_hrs from avg_hr\")"
   ],
   "outputs": [],
   "metadata": {}
  },
  {
   "cell_type": "code",
   "execution_count": 13,
   "source": [
    "hrs_df.show()"
   ],
   "outputs": [
    {
     "output_type": "stream",
     "name": "stderr",
     "text": []
    },
    {
     "output_type": "stream",
     "name": "stdout",
     "text": [
      "+--------------------+-------+\n",
      "|           user_name|avg_hrs|\n",
      "+--------------------+-------+\n",
      "|salinabodale73@gm...|21950.0|\n",
      "|sharlawar77@gmail...|22800.0|\n",
      "|rahilstar11@gmail...|19900.0|\n",
      "|deepshukla292@gma...|23700.0|\n",
      "|  iamnzm@outlook.com|22900.0|\n",
      "|markfernandes66@g...|19400.0|\n",
      "|damodharn21@gmail...| 9500.0|\n",
      "|bhagyashrichalke2...|18000.0|\n",
      "+--------------------+-------+\n",
      "\n"
     ]
    },
    {
     "output_type": "stream",
     "name": "stderr",
     "text": []
    }
   ],
   "metadata": {}
  },
  {
   "cell_type": "markdown",
   "source": [
    "## Converting seconds into hrs and min and showing max avg hrs"
   ],
   "metadata": {}
  },
  {
   "cell_type": "code",
   "execution_count": 15,
   "source": [
    "final_avg_hr=hrs_df.withColumn(\"Minutes\", round((col(\"avg_hrs\")/60),2))\\\n",
    ".withColumn(\"Hours\", floor((col(\"Minutes\")/60)))\\\n",
    ".withColumn(\"hourmin\", floor(col(\"Minutes\")-(col(\"Hours\").cast(\"int\") * 60)))\\\n",
    ".withColumn(\"Days\", floor((col(\"Hours\")/24)))\\\n",
    ".withColumn(\"Days2\", col(\"Days\")*24)\\\n",
    ".withColumn(\"Time\", when((col(\"Hours\")==0) &(col(\"Days\")==0), concat(col(\"hourmin\"),lit(\"min\"))).when((col(\"Hours\")!=0)&(col(\"Days\")==0), concat(col(\"Hours\"),lit(\"hr \"),col(\"hourmin\"),lit(\"min\"))).when(col(\"Days\")!=0, concat(col(\"Days\"),lit(\"d \"),(col(\"Hours\")-col(\"Days2\")),lit(\"hr \"),col(\"hourmin\"),lit(\"min\"))))\\\n",
    ".drop(\"Minutes\",\"Hours\",\"hourmin\",\"Days\",\"Days2\",\"avg_hrs\")\\\n",
    ".sort(desc(\"Time\")).show()"
   ],
   "outputs": [
    {
     "output_type": "stream",
     "name": "stderr",
     "text": []
    },
    {
     "output_type": "stream",
     "name": "stdout",
     "text": [
      "+--------------------+---------+\n",
      "|           user_name|     Time|\n",
      "+--------------------+---------+\n",
      "|salinabodale73@gm...| 6hr 5min|\n",
      "|deepshukla292@gma...|6hr 35min|\n",
      "|  iamnzm@outlook.com|6hr 21min|\n",
      "|sharlawar77@gmail...|6hr 20min|\n",
      "|rahilstar11@gmail...|5hr 31min|\n",
      "|markfernandes66@g...|5hr 23min|\n",
      "|bhagyashrichalke2...| 5hr 0min|\n",
      "|damodharn21@gmail...|2hr 38min|\n",
      "+--------------------+---------+\n",
      "\n"
     ]
    }
   ],
   "metadata": {}
  },
  {
   "cell_type": "markdown",
   "source": [
    "## TO get min avg hrs"
   ],
   "metadata": {}
  },
  {
   "cell_type": "code",
   "execution_count": 31,
   "source": [
    "final_avg_hr=hrs_df.withColumn(\"Minutes\", round((col(\"avg_hrs\")/60),2))\\\n",
    ".withColumn(\"Hours\", floor((col(\"Minutes\")/60)))\\\n",
    ".withColumn(\"hourmin\", floor(col(\"Minutes\")-(col(\"Hours\").cast(\"int\") * 60)))\\\n",
    ".withColumn(\"Days\", floor((col(\"Hours\")/24)))\\\n",
    ".withColumn(\"Days2\", col(\"Days\")*24)\\\n",
    ".withColumn(\"Time\", when((col(\"Hours\")==0) &(col(\"Days\")==0), concat(col(\"hourmin\"),lit(\"min\"))).when((col(\"Hours\")!=0)&(col(\"Days\")==0), concat(col(\"Hours\"),lit(\"hr \"),col(\"hourmin\"),lit(\"min\"))).when(col(\"Days\")!=0, concat(col(\"Days\"),lit(\"d \"),(col(\"Hours\")-col(\"Days2\")),lit(\"hr \"),col(\"hourmin\"),lit(\"min\"))))\\\n",
    ".drop(\"Minutes\",\"Hours\",\"hourmin\",\"Days\",\"Days2\",\"avg_hrs\")\\\n",
    ".sort(asc(\"Time\")).show()"
   ],
   "outputs": [
    {
     "output_type": "stream",
     "name": "stderr",
     "text": []
    },
    {
     "output_type": "stream",
     "name": "stdout",
     "text": [
      "+--------------------+---------+\n",
      "|           user_name|     Time|\n",
      "+--------------------+---------+\n",
      "|damodharn21@gmail...|2hr 38min|\n",
      "|bhagyashrichalke2...| 5hr 0min|\n",
      "|markfernandes66@g...|5hr 23min|\n",
      "|rahilstar11@gmail...|5hr 31min|\n",
      "|sharlawar77@gmail...|6hr 20min|\n",
      "|  iamnzm@outlook.com|6hr 21min|\n",
      "|deepshukla292@gma...|6hr 35min|\n",
      "|salinabodale73@gm...| 6hr 5min|\n",
      "+--------------------+---------+\n",
      "\n"
     ]
    }
   ],
   "metadata": {}
  },
  {
   "cell_type": "markdown",
   "source": [
    "# Counting idle hours"
   ],
   "metadata": {}
  },
  {
   "cell_type": "markdown",
   "source": [
    "## Taking entries when mouse and keyboard entries are 0"
   ],
   "metadata": {}
  },
  {
   "cell_type": "code",
   "execution_count": 16,
   "source": [
    "idle_count = spark.sql(\"select user_name, DateTime from log_data where keyboard=0 and mouse=0\").groupBy(\"user_name\").count()"
   ],
   "outputs": [],
   "metadata": {}
  },
  {
   "cell_type": "markdown",
   "source": [
    "## counting total idle hour entries"
   ],
   "metadata": {}
  },
  {
   "cell_type": "code",
   "execution_count": 17,
   "source": [
    "idle_count.sort('count').show()"
   ],
   "outputs": [
    {
     "output_type": "stream",
     "name": "stderr",
     "text": []
    },
    {
     "output_type": "stream",
     "name": "stdout",
     "text": [
      "+--------------------+-----+\n",
      "|           user_name|count|\n",
      "+--------------------+-----+\n",
      "|damodharn21@gmail...|   62|\n",
      "|deepshukla292@gma...|   90|\n",
      "|markfernandes66@g...|  119|\n",
      "|bhagyashrichalke2...|  121|\n",
      "|sharlawar77@gmail...|  123|\n",
      "|salinabodale73@gm...|  133|\n",
      "|rahilstar11@gmail...|  152|\n",
      "|  iamnzm@outlook.com|  155|\n",
      "+--------------------+-----+\n",
      "\n"
     ]
    },
    {
     "output_type": "stream",
     "name": "stderr",
     "text": []
    }
   ],
   "metadata": {}
  },
  {
   "cell_type": "markdown",
   "source": [
    "## Creating a temp view"
   ],
   "metadata": {}
  },
  {
   "cell_type": "code",
   "execution_count": 18,
   "source": [
    "idle_count.createOrReplaceTempView(\"idle_time\")"
   ],
   "outputs": [],
   "metadata": {}
  },
  {
   "cell_type": "markdown",
   "source": [
    "## Counting avg seconds for idle hrs"
   ],
   "metadata": {}
  },
  {
   "cell_type": "code",
   "execution_count": 19,
   "source": [
    "idle_df=spark.sql(\"select user_name, (((count-1)*5*60)/6) as idle_min from idle_time\")"
   ],
   "outputs": [],
   "metadata": {}
  },
  {
   "cell_type": "markdown",
   "source": [
    "## converting seconds into hr and mins"
   ],
   "metadata": {}
  },
  {
   "cell_type": "code",
   "execution_count": 20,
   "source": [
    "idle_hrs=idle_df.withColumn(\"Minutes\", round((col(\"idle_min\")/60),2))\\\n",
    ".withColumn(\"Hours\", floor((col(\"Minutes\")/60)))\\\n",
    ".withColumn(\"hourmin\", floor(col(\"Minutes\")-(col(\"Hours\").cast(\"int\") * 60)))\\\n",
    ".withColumn(\"Days\", floor((col(\"Hours\")/24)))\\\n",
    ".withColumn(\"Days2\", col(\"Days\")*24)\\\n",
    ".withColumn(\"Idle_Hrs\", when((col(\"Hours\")==0) &(col(\"Days\")==0), concat(col(\"hourmin\"),lit(\"min\"))).when((col(\"Hours\")!=0)&(col(\"Days\")==0), concat(col(\"Hours\"),lit(\"hr \"),col(\"hourmin\"),lit(\"min\"))).when(col(\"Days\")!=0, concat(col(\"Days\"),lit(\"d \"),(col(\"Hours\")-col(\"Days2\")),lit(\"hr \"),col(\"hourmin\"),lit(\"min\"))))\\\n",
    ".drop(\"Minutes\",\"Hours\",\"hourmin\",\"Days\",\"Days2\",'idle_min')\\\n",
    ".sort(asc(\"Idle_Hrs\")).show()"
   ],
   "outputs": [
    {
     "output_type": "stream",
     "name": "stderr",
     "text": []
    },
    {
     "output_type": "stream",
     "name": "stdout",
     "text": [
      "+--------------------+---------+\n",
      "|           user_name| Idle_Hrs|\n",
      "+--------------------+---------+\n",
      "|deepshukla292@gma...|1hr 14min|\n",
      "|markfernandes66@g...|1hr 38min|\n",
      "|bhagyashrichalke2...|1hr 40min|\n",
      "|sharlawar77@gmail...|1hr 41min|\n",
      "|salinabodale73@gm...|1hr 50min|\n",
      "|rahilstar11@gmail...| 2hr 5min|\n",
      "|  iamnzm@outlook.com| 2hr 8min|\n",
      "|damodharn21@gmail...|    50min|\n",
      "+--------------------+---------+\n",
      "\n"
     ]
    },
    {
     "output_type": "stream",
     "name": "stderr",
     "text": []
    }
   ],
   "metadata": {}
  },
  {
   "cell_type": "markdown",
   "source": [
    "# VISUALIZATION WITH MATPLOTLIB"
   ],
   "metadata": {}
  },
  {
   "cell_type": "markdown",
   "source": [
    "## Importing matplotlib"
   ],
   "metadata": {}
  },
  {
   "cell_type": "code",
   "execution_count": 21,
   "source": [
    "import matplotlib.pyplot as plt\n",
    "import pandas"
   ],
   "outputs": [],
   "metadata": {}
  },
  {
   "cell_type": "markdown",
   "source": [
    "## creating pandas dataframe from our dataframe"
   ],
   "metadata": {}
  },
  {
   "cell_type": "code",
   "execution_count": 22,
   "source": [
    "idle = idle_count.toPandas()"
   ],
   "outputs": [
    {
     "output_type": "stream",
     "name": "stderr",
     "text": []
    }
   ],
   "metadata": {}
  },
  {
   "cell_type": "code",
   "execution_count": 23,
   "source": [
    "username= idle['user_name']\n",
    "hrs=idle['count']"
   ],
   "outputs": [],
   "metadata": {}
  },
  {
   "cell_type": "code",
   "execution_count": 24,
   "source": [
    "colors =['Red', 'Blue', 'Green','Grey','Brown','Red','Blue','Black']\n",
    "explode = (0.1, 0, 0, 0, 0, 0, 0, 0)"
   ],
   "outputs": [],
   "metadata": {}
  },
  {
   "cell_type": "markdown",
   "source": [
    "## Plotting on a pie chart for idle hrs"
   ],
   "metadata": {}
  },
  {
   "cell_type": "code",
   "execution_count": 25,
   "source": [
    "\n",
    "plt.pie(hrs, labels=username, explode=explode, colors=colors,\n",
    "autopct='%1.1f%%', shadow=True)\n",
    "plt.title(\"Idle hours by person\")\n",
    "plt.show()"
   ],
   "outputs": [
    {
     "output_type": "display_data",
     "data": {
      "text/plain": [
       "<Figure size 432x288 with 1 Axes>"
      ],
      "image/png": "[encoded data removed]"
     },
     "metadata": {}
    }
   ],
   "metadata": {}
  },
  {
   "cell_type": "markdown",
   "source": [
    "## Pie chart for Avg Hrs"
   ],
   "metadata": {}
  },
  {
   "cell_type": "code",
   "execution_count": 26,
   "source": [
    "avg_HR = hrs_df.toPandas()"
   ],
   "outputs": [
    {
     "output_type": "stream",
     "name": "stderr",
     "text": []
    }
   ],
   "metadata": {}
  },
  {
   "cell_type": "code",
   "execution_count": 27,
   "source": [
    "username= avg_HR['user_name']\n",
    "hrs=avg_HR['avg_hrs']"
   ],
   "outputs": [],
   "metadata": {}
  },
  {
   "cell_type": "code",
   "execution_count": 28,
   "source": [
    "colors =['Red', 'Blue', 'Green','Grey','Brown','Red','Blue','Black']\n",
    "explode = (0.1, 0, 0, 0, 0, 0,0,0)"
   ],
   "outputs": [],
   "metadata": {}
  },
  {
   "cell_type": "code",
   "execution_count": 30,
   "source": [
    "plt.pie(hrs, labels=username, explode=explode, colors=colors,\n",
    "autopct='%1.1f%%', shadow=True)\n",
    "plt.title(\"Avg hours by person\")\n",
    "plt.show()"
   ],
   "outputs": [
    {
     "output_type": "display_data",
     "data": {
      "text/plain": [
       "<Figure size 432x288 with 1 Axes>"
      ],
      "image/png": "[encoded data removed]"
     },
     "metadata": {}
    }
   ],
   "metadata": {}
  },
  {
   "cell_type": "code",
   "execution_count": null,
   "source": [],
   "outputs": [],
   "metadata": {}
  }
 ],
 "metadata": {
  "orig_nbformat": 4,
  "language_info": {
   "name": "python",
   "version": "3.8.10",
   "mimetype": "text/x-python",
   "codemirror_mode": {
    "name": "ipython",
    "version": 3
   },
   "pygments_lexer": "ipython3",
   "nbconvert_exporter": "python",
   "file_extension": ".py"
  },
  "kernelspec": {
   "name": "python3",
   "display_name": "Python 3.8.10 64-bit"
  },
  "interpreter": {
   "hash": "31f2aee4e71d21fbe5cf8b01ff0e069b9275f58929596ceb00d14d90e3e16cd6"
  }
 },
 "nbformat": 4,
 "nbformat_minor": 2
}